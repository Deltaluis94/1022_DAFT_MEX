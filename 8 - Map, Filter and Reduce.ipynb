{
  "cells": [
    {
      "cell_type": "code",
      "execution_count": 1,
      "metadata": {
        "ExecuteTime": {
          "end_time": "2022-01-08T13:10:04.323413Z",
          "start_time": "2022-01-08T13:10:03.820962Z"
        },
        "id": "ZZkjnghu1ptJ"
      },
      "outputs": [],
      "source": [
        "import re\n",
        "import numpy as np\n"
      ]
    },
    {
      "cell_type": "markdown",
      "metadata": {
        "id": "3Pbxk8H71ptK"
      },
      "source": [
        "# Map, Filter & Reduce\n",
        "\n",
        "Let's recap the differences between the two programming paradigms we've seen so far:\n",
        "\n",
        "**Imperative Paradigm**\n",
        "- The program is a series of **instructions** that modify a **state**:\n",
        "\n",
        "```python\n",
        "x = 0\n",
        "for i in range(10):\n",
        "    x = (x + i)*2\n",
        "print x\n",
        "```\n",
        "\n",
        "- The *variable* `x` is the state of our program, which is modified through the `for` loop.\n",
        "\n",
        "- One the simplest forms of programming, typical of older programming languages (C, Fortran e COBOL por exemplo).\n",
        "\n",
        "**Functional Programming**\n",
        "- There is no state: the program defines functions which are applied over the input.\n",
        "\n",
        "```python\n",
        "def somar_2(x):\n",
        "    return x + 2\n",
        "\n",
        "def mult_4(x):\n",
        "    return x * 4\n",
        "\n",
        "saida = somar_2(mult_4(somar_2(entrada)))\n",
        "```\n",
        "\n",
        "- In the functional paradigm, functions are variables.\n",
        "- Originated in the 1970s with LISP and is present today in many data-oriented languages such as R, Julia, Python (em parte)."
      ]
    },
    {
      "cell_type": "markdown",
      "metadata": {
        "id": "l2QPyTW41ptL"
      },
      "source": [
        "## Functions are variables"
      ]
    },
    {
      "cell_type": "code",
      "execution_count": 2,
      "metadata": {
        "ExecuteTime": {
          "end_time": "2022-01-08T13:12:09.210867Z",
          "start_time": "2022-01-08T13:12:09.194910Z"
        },
        "id": "0ri4N_Wm1ptL"
      },
      "outputs": [],
      "source": [
        "soma_1 = lambda x: x + 1\n"
      ]
    },
    {
      "cell_type": "code",
      "source": [
        "soma_1"
      ],
      "metadata": {
        "id": "tn84d3c9-mhR",
        "outputId": "08cc2644-bc2f-4606-bf29-f55eb0a1ae7c",
        "colab": {
          "base_uri": "https://localhost:8080/"
        }
      },
      "execution_count": 8,
      "outputs": [
        {
          "output_type": "execute_result",
          "data": {
            "text/plain": [
              "<function __main__.<lambda>(x)>"
            ]
          },
          "metadata": {},
          "execution_count": 8
        }
      ]
    },
    {
      "cell_type": "code",
      "execution_count": 3,
      "metadata": {
        "id": "ExeclpjK1ptM",
        "outputId": "73f50776-1bca-479e-e15d-d0bb2380c922",
        "colab": {
          "base_uri": "https://localhost:8080/"
        }
      },
      "outputs": [
        {
          "output_type": "execute_result",
          "data": {
            "text/plain": [
              "13"
            ]
          },
          "metadata": {},
          "execution_count": 3
        }
      ],
      "source": [
        "soma_1(soma_1(soma_1(10)))\n"
      ]
    },
    {
      "cell_type": "code",
      "source": [
        "def divisibles(b):\n",
        "  return lambda x: 1 if x % b == 0 else 0"
      ],
      "metadata": {
        "id": "8resoLk8-ct3"
      },
      "execution_count": 4,
      "outputs": []
    },
    {
      "cell_type": "code",
      "source": [
        "[divisibles(x) for x in range(10)]"
      ],
      "metadata": {
        "id": "kbjD4c_3-vYc",
        "outputId": "62327b6b-5791-4a44-eab1-7f7e215307ab",
        "colab": {
          "base_uri": "https://localhost:8080/"
        }
      },
      "execution_count": 10,
      "outputs": [
        {
          "output_type": "execute_result",
          "data": {
            "text/plain": [
              "[<function __main__.divisibles.<locals>.<lambda>(x)>,\n",
              " <function __main__.divisibles.<locals>.<lambda>(x)>,\n",
              " <function __main__.divisibles.<locals>.<lambda>(x)>,\n",
              " <function __main__.divisibles.<locals>.<lambda>(x)>,\n",
              " <function __main__.divisibles.<locals>.<lambda>(x)>,\n",
              " <function __main__.divisibles.<locals>.<lambda>(x)>,\n",
              " <function __main__.divisibles.<locals>.<lambda>(x)>,\n",
              " <function __main__.divisibles.<locals>.<lambda>(x)>,\n",
              " <function __main__.divisibles.<locals>.<lambda>(x)>,\n",
              " <function __main__.divisibles.<locals>.<lambda>(x)>]"
            ]
          },
          "metadata": {},
          "execution_count": 10
        }
      ]
    },
    {
      "cell_type": "code",
      "execution_count": 5,
      "metadata": {
        "id": "da-26afx1ptM"
      },
      "outputs": [],
      "source": [
        "def soma_1_c(x):\n",
        "    return x + 1\n"
      ]
    },
    {
      "cell_type": "code",
      "execution_count": 9,
      "metadata": {
        "id": "xAYfoQ221ptM",
        "outputId": "4561834a-1bda-476a-b98e-98905251d258",
        "colab": {
          "base_uri": "https://localhost:8080/"
        }
      },
      "outputs": [
        {
          "output_type": "execute_result",
          "data": {
            "text/plain": [
              "<function __main__.soma_1_c(x)>"
            ]
          },
          "metadata": {},
          "execution_count": 9
        }
      ],
      "source": [
        "[soma_1_c\n"
      ]
    },
    {
      "cell_type": "code",
      "execution_count": 7,
      "metadata": {
        "ExecuteTime": {
          "end_time": "2022-01-08T13:12:17.104938Z",
          "start_time": "2022-01-08T13:12:17.087959Z"
        },
        "id": "7sm3T2r81ptM",
        "outputId": "219fc975-aaed-4f4d-ccb5-38044f7e516e",
        "colab": {
          "base_uri": "https://localhost:8080/"
        }
      },
      "outputs": [
        {
          "output_type": "execute_result",
          "data": {
            "text/plain": [
              "12"
            ]
          },
          "metadata": {},
          "execution_count": 7
        }
      ],
      "source": [
        "soma_1(soma_1_c(10))\n"
      ]
    },
    {
      "cell_type": "markdown",
      "metadata": {
        "id": "rMJxPQQ-1ptM"
      },
      "source": [
        "We can use this to create functions that `return` other functions:"
      ]
    },
    {
      "cell_type": "code",
      "execution_count": 11,
      "metadata": {
        "ExecuteTime": {
          "end_time": "2022-01-08T13:13:12.044380Z",
          "start_time": "2022-01-08T13:13:12.031417Z"
        },
        "id": "tZ9Xsu0g1ptN"
      },
      "outputs": [],
      "source": [
        "somar_n = lambda x, n: x + n\n"
      ]
    },
    {
      "cell_type": "code",
      "execution_count": 12,
      "metadata": {
        "ExecuteTime": {
          "end_time": "2022-01-08T13:13:12.452025Z",
          "start_time": "2022-01-08T13:13:12.442069Z"
        },
        "id": "tdRhRLA_1ptN"
      },
      "outputs": [],
      "source": [
        "soma_1 = lambda x: somar_n(x, 1)\n"
      ]
    },
    {
      "cell_type": "code",
      "execution_count": 13,
      "metadata": {
        "ExecuteTime": {
          "end_time": "2022-01-08T13:13:12.980249Z",
          "start_time": "2022-01-08T13:13:12.967272Z"
        },
        "id": "NpidAypE1ptN",
        "outputId": "60d6338e-0caa-486a-fb64-055bc6445e6f",
        "colab": {
          "base_uri": "https://localhost:8080/"
        }
      },
      "outputs": [
        {
          "output_type": "execute_result",
          "data": {
            "text/plain": [
              "11"
            ]
          },
          "metadata": {},
          "execution_count": 13
        }
      ],
      "source": [
        "soma_1(10)\n"
      ]
    },
    {
      "cell_type": "code",
      "source": [
        "x = 1\n",
        "x()"
      ],
      "metadata": {
        "id": "YKdRJPOv-6eT",
        "outputId": "2e8bdcdc-a056-4758-82ca-cfd3db6747d2",
        "colab": {
          "base_uri": "https://localhost:8080/",
          "height": 206
        }
      },
      "execution_count": 14,
      "outputs": [
        {
          "output_type": "error",
          "ename": "TypeError",
          "evalue": "ignored",
          "traceback": [
            "\u001b[0;31m---------------------------------------------------------------------------\u001b[0m",
            "\u001b[0;31mTypeError\u001b[0m                                 Traceback (most recent call last)",
            "\u001b[0;32m<ipython-input-14-15573c2b496b>\u001b[0m in \u001b[0;36m<module>\u001b[0;34m\u001b[0m\n\u001b[1;32m      1\u001b[0m \u001b[0mx\u001b[0m \u001b[0;34m=\u001b[0m \u001b[0;36m1\u001b[0m\u001b[0;34m\u001b[0m\u001b[0;34m\u001b[0m\u001b[0m\n\u001b[0;32m----> 2\u001b[0;31m \u001b[0mx\u001b[0m\u001b[0;34m(\u001b[0m\u001b[0;34m)\u001b[0m\u001b[0;34m\u001b[0m\u001b[0;34m\u001b[0m\u001b[0m\n\u001b[0m",
            "\u001b[0;31mTypeError\u001b[0m: 'int' object is not callable"
          ]
        }
      ]
    },
    {
      "cell_type": "markdown",
      "metadata": {
        "id": "5W7AG6ZT1ptN"
      },
      "source": [
        "## The `map` concept\n",
        "\n",
        "One of the key concepts in functional programming is **mapping**: applying a function to the elements of a set, list or other iterable. "
      ]
    },
    {
      "cell_type": "code",
      "execution_count": 15,
      "metadata": {
        "ExecuteTime": {
          "end_time": "2022-01-08T13:14:59.671615Z",
          "start_time": "2022-01-08T13:14:59.655657Z"
        },
        "id": "y6sSvnQH1ptN"
      },
      "outputs": [],
      "source": [
        "lista_exemplo = [10, 12, 34, 23, 2, 6, 7]\n"
      ]
    },
    {
      "cell_type": "code",
      "execution_count": 16,
      "metadata": {
        "ExecuteTime": {
          "end_time": "2022-01-08T13:15:12.435569Z",
          "start_time": "2022-01-08T13:15:12.425597Z"
        },
        "id": "j-XZH8Jv1ptO"
      },
      "outputs": [],
      "source": [
        "def div_2(x):\n",
        "    return x / 2\n"
      ]
    },
    {
      "cell_type": "markdown",
      "metadata": {
        "id": "29WHQ8U91ptO"
      },
      "source": [
        "A simple call of `div_2(lista_exemplo)` will not work!"
      ]
    },
    {
      "cell_type": "code",
      "execution_count": 17,
      "metadata": {
        "ExecuteTime": {
          "end_time": "2022-01-08T13:15:36.881231Z",
          "start_time": "2022-01-08T13:15:36.632896Z"
        },
        "scrolled": true,
        "id": "JckJaL5s1ptO",
        "outputId": "f4377b8d-6281-4d10-f652-c5282498a663",
        "colab": {
          "base_uri": "https://localhost:8080/",
          "height": 259
        }
      },
      "outputs": [
        {
          "output_type": "error",
          "ename": "TypeError",
          "evalue": "ignored",
          "traceback": [
            "\u001b[0;31m---------------------------------------------------------------------------\u001b[0m",
            "\u001b[0;31mTypeError\u001b[0m                                 Traceback (most recent call last)",
            "\u001b[0;32m<ipython-input-17-03edcab3e078>\u001b[0m in \u001b[0;36m<module>\u001b[0;34m\u001b[0m\n\u001b[0;32m----> 1\u001b[0;31m \u001b[0mdiv_2\u001b[0m\u001b[0;34m(\u001b[0m\u001b[0mlista_exemplo\u001b[0m\u001b[0;34m)\u001b[0m\u001b[0;34m\u001b[0m\u001b[0;34m\u001b[0m\u001b[0m\n\u001b[0m",
            "\u001b[0;32m<ipython-input-16-35eb00c18947>\u001b[0m in \u001b[0;36mdiv_2\u001b[0;34m(x)\u001b[0m\n\u001b[1;32m      1\u001b[0m \u001b[0;32mdef\u001b[0m \u001b[0mdiv_2\u001b[0m\u001b[0;34m(\u001b[0m\u001b[0mx\u001b[0m\u001b[0;34m)\u001b[0m\u001b[0;34m:\u001b[0m\u001b[0;34m\u001b[0m\u001b[0;34m\u001b[0m\u001b[0m\n\u001b[0;32m----> 2\u001b[0;31m     \u001b[0;32mreturn\u001b[0m \u001b[0mx\u001b[0m \u001b[0;34m/\u001b[0m \u001b[0;36m2\u001b[0m\u001b[0;34m\u001b[0m\u001b[0;34m\u001b[0m\u001b[0m\n\u001b[0m",
            "\u001b[0;31mTypeError\u001b[0m: unsupported operand type(s) for /: 'list' and 'int'"
          ]
        }
      ],
      "source": [
        "div_2(lista_exemplo)\n"
      ]
    },
    {
      "cell_type": "markdown",
      "metadata": {
        "id": "nuBjwNL71ptO"
      },
      "source": [
        "The `div_2` is expecting a number as an argumento, but `lista_exemplo` is a list!\n",
        "\n",
        "We could create an empty list and use a loop to iterate over `lista_exemplo`:"
      ]
    },
    {
      "cell_type": "code",
      "execution_count": 18,
      "metadata": {
        "ExecuteTime": {
          "end_time": "2022-01-08T13:17:14.355876Z",
          "start_time": "2022-01-08T13:17:14.340891Z"
        },
        "id": "CJhCMVsJ1ptO",
        "outputId": "98f8591b-7156-4108-fda2-b8583cd7f982",
        "colab": {
          "base_uri": "https://localhost:8080/"
        }
      },
      "outputs": [
        {
          "output_type": "execute_result",
          "data": {
            "text/plain": [
              "[5.0, 6.0, 17.0, 11.5, 1.0, 3.0, 3.5]"
            ]
          },
          "metadata": {},
          "execution_count": 18
        }
      ],
      "source": [
        "new_list = []\n",
        "\n",
        "for item in lista_exemplo:\n",
        "  func_application = div_2(item)\n",
        "  new_list.append(func_application)\n",
        "\n",
        "new_list\n"
      ]
    },
    {
      "cell_type": "markdown",
      "metadata": {
        "id": "-5K0xe_b1ptP"
      },
      "source": [
        "Another way is using a `list comprehension`: one of the tools in the functional programming toolbox:"
      ]
    },
    {
      "cell_type": "code",
      "execution_count": 19,
      "metadata": {
        "ExecuteTime": {
          "end_time": "2022-01-08T13:18:05.250407Z",
          "start_time": "2022-01-08T13:18:05.238441Z"
        },
        "id": "_lQ2ZSY11ptP",
        "outputId": "b7cf8cbb-bade-4e1e-cb2c-695839e8602e",
        "colab": {
          "base_uri": "https://localhost:8080/"
        }
      },
      "outputs": [
        {
          "output_type": "execute_result",
          "data": {
            "text/plain": [
              "[5.0, 6.0, 17.0, 11.5, 1.0, 3.0, 3.5]"
            ]
          },
          "metadata": {},
          "execution_count": 19
        }
      ],
      "source": [
        "[div_2(item) for item in lista_exemplo]\n"
      ]
    },
    {
      "cell_type": "markdown",
      "metadata": {
        "id": "M3ujTOiE1ptP"
      },
      "source": [
        "A third way is using `map()`:"
      ]
    },
    {
      "cell_type": "code",
      "source": [
        "map(div_2, lista_exemplo)"
      ],
      "metadata": {
        "id": "b1ZSE-0u_t9U",
        "outputId": "3c0631d0-198f-4365-8fd7-41b6cbc36345",
        "colab": {
          "base_uri": "https://localhost:8080/"
        }
      },
      "execution_count": 21,
      "outputs": [
        {
          "output_type": "execute_result",
          "data": {
            "text/plain": [
              "<map at 0x7fcd7aa07f90>"
            ]
          },
          "metadata": {},
          "execution_count": 21
        }
      ]
    },
    {
      "cell_type": "code",
      "execution_count": 22,
      "metadata": {
        "ExecuteTime": {
          "end_time": "2022-01-08T13:19:41.455605Z",
          "start_time": "2022-01-08T13:19:41.443610Z"
        },
        "id": "Ukn-eaCU1ptP",
        "outputId": "636b2f06-aad5-48b0-f7f9-e82caa5b22e7",
        "colab": {
          "base_uri": "https://localhost:8080/"
        }
      },
      "outputs": [
        {
          "output_type": "stream",
          "name": "stdout",
          "text": [
            "5.0\n",
            "6.0\n",
            "17.0\n",
            "11.5\n",
            "1.0\n",
            "3.0\n",
            "3.5\n"
          ]
        }
      ],
      "source": [
        "for i in map(div_2, lista_exemplo):\n",
        "    print(i)\n"
      ]
    },
    {
      "cell_type": "markdown",
      "metadata": {
        "id": "lBoD0dEP1ptQ"
      },
      "source": [
        "The results from `map()` are **lazy**: it is not calculated when you call the functions but when you need the results!"
      ]
    },
    {
      "cell_type": "code",
      "execution_count": 28,
      "metadata": {
        "ExecuteTime": {
          "end_time": "2022-01-08T13:19:52.547042Z",
          "start_time": "2022-01-08T13:19:52.528077Z"
        },
        "id": "usYeB8-s1ptQ"
      },
      "outputs": [],
      "source": [
        "map_le = list(map(div_2, lista_exemplo))\n"
      ]
    },
    {
      "cell_type": "code",
      "source": [
        "map_le[0]"
      ],
      "metadata": {
        "id": "xlkfTejoAGQh",
        "outputId": "7bfc0ac0-a0e9-4363-87fe-9e867f14eef3",
        "colab": {
          "base_uri": "https://localhost:8080/"
        }
      },
      "execution_count": 29,
      "outputs": [
        {
          "output_type": "execute_result",
          "data": {
            "text/plain": [
              "5.0"
            ]
          },
          "metadata": {},
          "execution_count": 29
        }
      ]
    },
    {
      "cell_type": "markdown",
      "metadata": {
        "id": "yZYa6_SP1ptR"
      },
      "source": [
        "A *interesting* behavior of **lazy** iterators is that they become **empty as you iterate over their elements**:"
      ]
    },
    {
      "cell_type": "code",
      "source": [
        "lista_exemplo = [10, 12, 34, 23, 2, 6, 7]"
      ],
      "metadata": {
        "id": "E9y3fR-dA1Dl"
      },
      "execution_count": null,
      "outputs": []
    },
    {
      "cell_type": "code",
      "source": [
        "resultado_map = map(div_2, lista_exemplo)"
      ],
      "metadata": {
        "id": "QhqzClG3Aggw"
      },
      "execution_count": 38,
      "outputs": []
    },
    {
      "cell_type": "code",
      "execution_count": 39,
      "metadata": {
        "ExecuteTime": {
          "end_time": "2022-01-08T13:20:53.619882Z",
          "start_time": "2022-01-08T13:20:53.605921Z"
        },
        "id": "Q3upVpuC1ptR",
        "outputId": "590e85c4-bf59-4de2-96a6-a020b48c3330",
        "colab": {
          "base_uri": "https://localhost:8080/"
        }
      },
      "outputs": [
        {
          "output_type": "stream",
          "name": "stdout",
          "text": [
            "5.0\n",
            "[6.0, 17.0, 11.5, 1.0, 3.0, 3.5]\n"
          ]
        }
      ],
      "source": [
        "for i in resultado_map:\n",
        "  print(i)\n",
        "  print(list(resultado_map))\n"
      ]
    },
    {
      "cell_type": "code",
      "execution_count": 32,
      "metadata": {
        "ExecuteTime": {
          "end_time": "2022-01-08T13:21:00.001339Z",
          "start_time": "2022-01-08T13:20:59.991339Z"
        },
        "id": "HlliQPk01ptR",
        "outputId": "ec5977d4-a644-4437-c75d-57ef24e54087",
        "colab": {
          "base_uri": "https://localhost:8080/"
        }
      },
      "outputs": [
        {
          "output_type": "execute_result",
          "data": {
            "text/plain": [
              "[]"
            ]
          },
          "metadata": {},
          "execution_count": 32
        }
      ],
      "source": [
        "list(resultado_map)"
      ]
    },
    {
      "cell_type": "code",
      "execution_count": 40,
      "metadata": {
        "ExecuteTime": {
          "end_time": "2022-01-08T13:22:21.365489Z",
          "start_time": "2022-01-08T13:22:21.351525Z"
        },
        "id": "nHjn03SQ1ptR"
      },
      "outputs": [],
      "source": [
        "resultado_map = map(div_2, lista_exemplo)\n"
      ]
    },
    {
      "cell_type": "code",
      "execution_count": 41,
      "metadata": {
        "ExecuteTime": {
          "end_time": "2022-01-08T13:22:28.149604Z",
          "start_time": "2022-01-08T13:22:28.142627Z"
        },
        "id": "2NrkIsoL1ptR",
        "outputId": "21f87607-45be-447d-ad01-941b4d582547",
        "colab": {
          "base_uri": "https://localhost:8080/"
        }
      },
      "outputs": [
        {
          "output_type": "execute_result",
          "data": {
            "text/plain": [
              "[5.0, 6.0, 17.0, 11.5, 1.0, 3.0, 3.5]"
            ]
          },
          "metadata": {},
          "execution_count": 41
        }
      ],
      "source": [
        "list(resultado_map)\n"
      ]
    },
    {
      "cell_type": "markdown",
      "metadata": {
        "id": "Dqf8SEvu1ptR"
      },
      "source": [
        "### Lazy evaluation\n",
        "\n",
        "Lazy evaluation is an important concept in Big Data: it saves memory and CPU by performing computations only **when they are needed**."
      ]
    },
    {
      "cell_type": "code",
      "execution_count": 43,
      "metadata": {
        "ExecuteTime": {
          "end_time": "2022-01-08T13:26:26.452434Z",
          "start_time": "2022-01-08T13:26:26.442472Z"
        },
        "id": "2uI-gxuH1ptS"
      },
      "outputs": [],
      "source": [
        "lista_telefones = [\n",
        "    19999571559,\n",
        "    \"(21) 2412-0107\",\n",
        "    \"(34) 99762-1166\",\n",
        "    \"91-4002-8282\",\n",
        "    \"(19) 3542-1820\",\n",
        "    \"(19) 3561-9525\",\n",
        "    \"(34) 3333-5802\",\n",
        "]\n",
        "pattern = r\"[0-9]{2}\"\n"
      ]
    },
    {
      "cell_type": "code",
      "source": [
        "numero_telefone = str(lista_telefones[1])\n",
        "print(numero_telefone)\n",
        "ddd = re.findall(pattern, numero_telefone)\n",
        "print(ddd)"
      ],
      "metadata": {
        "id": "HfJw0eePCgDg",
        "outputId": "e946fe62-4fcc-4ae0-98e8-4434c6770089",
        "colab": {
          "base_uri": "https://localhost:8080/"
        }
      },
      "execution_count": 65,
      "outputs": [
        {
          "output_type": "stream",
          "name": "stdout",
          "text": [
            "(21) 2412-0107\n",
            "['21', '24', '12', '01', '07']\n"
          ]
        }
      ]
    },
    {
      "cell_type": "code",
      "source": [
        "lambda x: re.findall(pattern, str(x))"
      ],
      "metadata": {
        "id": "uHJVHGrTDl_k",
        "outputId": "2f857472-4a3b-4903-9cfb-2e623c353079",
        "colab": {
          "base_uri": "https://localhost:8080/"
        }
      },
      "execution_count": 61,
      "outputs": [
        {
          "output_type": "execute_result",
          "data": {
            "text/plain": [
              "<function __main__.<lambda>(x)>"
            ]
          },
          "metadata": {},
          "execution_count": 61
        }
      ]
    },
    {
      "cell_type": "code",
      "source": [
        "for telefone in lista_telefones:\n",
        "  str_telefone = str(telefone)\n",
        "  pair_list = re.findall(r'[0-9]{2}', str_telefone)\n",
        "  ddd = pair_list[0]"
      ],
      "metadata": {
        "id": "Y8vyj2WhEUAL"
      },
      "execution_count": null,
      "outputs": []
    },
    {
      "cell_type": "code",
      "source": [
        "func_ddd = lambda x: re.findall(pattern, str(x))[0]"
      ],
      "metadata": {
        "id": "H-syT2_7E7dk"
      },
      "execution_count": 67,
      "outputs": []
    },
    {
      "cell_type": "code",
      "execution_count": 71,
      "metadata": {
        "ExecuteTime": {
          "end_time": "2022-01-08T13:30:02.104002Z",
          "start_time": "2022-01-08T13:30:02.081054Z"
        },
        "id": "BWxDedmv1ptS",
        "outputId": "f9716351-7f73-40eb-b697-cd4c92895ac7",
        "colab": {
          "base_uri": "https://localhost:8080/"
        }
      },
      "outputs": [
        {
          "output_type": "stream",
          "name": "stdout",
          "text": [
            "['19', '21', '34', '91', '19', '19', '34']\n"
          ]
        }
      ],
      "source": [
        "lista_dds = list(map(lambda x: re.findall(pattern, str(x))[0], lista_telefones))\n",
        "print(lista_dds)\n"
      ]
    },
    {
      "cell_type": "code",
      "execution_count": 72,
      "metadata": {
        "ExecuteTime": {
          "end_time": "2022-01-08T13:27:32.637277Z",
          "start_time": "2022-01-08T13:27:32.621321Z"
        },
        "id": "RbPW1jG31ptS",
        "outputId": "d384b5fa-8aaf-44e9-acc6-870258d59cb6",
        "colab": {
          "base_uri": "https://localhost:8080/"
        }
      },
      "outputs": [
        {
          "output_type": "stream",
          "name": "stdout",
          "text": [
            "19\n",
            "21\n",
            "34\n",
            "91\n",
            "19\n",
            "19\n",
            "34\n"
          ]
        }
      ],
      "source": [
        "for ddd in map(lambda x: \"\".join(re.findall(pattern, str(x)))[:2], lista_telefones):\n",
        "    print(ddd)\n"
      ]
    },
    {
      "cell_type": "markdown",
      "metadata": {
        "id": "NSuwts1G1ptS"
      },
      "source": [
        "## Filtering `filter()`\n",
        "\n",
        "A segunda parte importante do paradigma funcional é a função `filter()`: ela nos permite filtrar os elementos de um iterável a partir de uma função que retorna valores booleanos. Assim como `map()`, `filter()` avalia (de forma preguiçosa) um iterável e retorna apenas os elementos onde a função aplicada retorna `True`.\n",
        "\n",
        "Vamos continuar o nosso exemplo com uma lista de telefones e uma função para extrair o DDD:"
      ]
    },
    {
      "cell_type": "code",
      "execution_count": 73,
      "metadata": {
        "ExecuteTime": {
          "end_time": "2022-01-08T13:33:05.030244Z",
          "start_time": "2022-01-08T13:33:05.020271Z"
        },
        "id": "xxk1cJHX1ptS"
      },
      "outputs": [],
      "source": [
        "lista_telefones = [\n",
        "    19999571559,\n",
        "    \"(21) 2412-0107\",\n",
        "    \"(34) 99762-1166\",\n",
        "    \"91-4002-8282\",\n",
        "    \"(19) 3542-1820\",\n",
        "    \"(19) 3561-9525\",\n",
        "    \"(34) 3333-5802\",\n",
        "]\n",
        "\n",
        "\n",
        "def extrair_ddd(telefone):\n",
        "    \"\"\"\n",
        "    Recebe um telefone e retorna seu DDD\n",
        "\n",
        "    telefone (str or int): Telefone onde os dois primeiros digitios numéricos são o DDD\n",
        "    \"\"\"\n",
        "    pattern = r\"[0-9]{2}\"\n",
        "    return \"\".join(re.findall(pattern, str(telefone)))[:2]\n"
      ]
    },
    {
      "cell_type": "code",
      "source": [
        "list(map(extrair_ddd, lista_telefones))"
      ],
      "metadata": {
        "id": "yZy8cjLkHKPX",
        "outputId": "48037284-8033-439f-97ea-19d46193be55",
        "colab": {
          "base_uri": "https://localhost:8080/"
        }
      },
      "execution_count": 74,
      "outputs": [
        {
          "output_type": "execute_result",
          "data": {
            "text/plain": [
              "['19', '21', '34', '91', '19', '19', '34']"
            ]
          },
          "metadata": {},
          "execution_count": 74
        }
      ]
    },
    {
      "cell_type": "code",
      "source": [
        "lista_ddds = list(map(extrair_ddd, lista_telefones))\n",
        "lista_telefone_ddd = list(zip(lista_ddds, lista_telefones))"
      ],
      "metadata": {
        "id": "uhF8v_-jHrKK"
      },
      "execution_count": 75,
      "outputs": []
    },
    {
      "cell_type": "code",
      "source": [
        "lista_ddds"
      ],
      "metadata": {
        "id": "qSnF_6qpII08",
        "outputId": "38678ba1-7e39-4df5-deb2-1d654942d540",
        "colab": {
          "base_uri": "https://localhost:8080/"
        }
      },
      "execution_count": 80,
      "outputs": [
        {
          "output_type": "execute_result",
          "data": {
            "text/plain": [
              "['19', '21', '34', '91', '19', '19', '34']"
            ]
          },
          "metadata": {},
          "execution_count": 80
        }
      ]
    },
    {
      "cell_type": "code",
      "source": [
        "list(lista_telefone_ddd)"
      ],
      "metadata": {
        "id": "lPOqrAmtHsOc",
        "outputId": "8c26ef90-87c8-4935-c8fb-1584dfb93f5d",
        "colab": {
          "base_uri": "https://localhost:8080/"
        }
      },
      "execution_count": 78,
      "outputs": [
        {
          "output_type": "execute_result",
          "data": {
            "text/plain": [
              "[('19', 19999571559),\n",
              " ('21', '(21) 2412-0107'),\n",
              " ('34', '(34) 99762-1166'),\n",
              " ('91', '91-4002-8282'),\n",
              " ('19', '(19) 3542-1820'),\n",
              " ('19', '(19) 3561-9525'),\n",
              " ('34', '(34) 3333-5802')]"
            ]
          },
          "metadata": {},
          "execution_count": 78
        }
      ]
    },
    {
      "cell_type": "code",
      "source": [
        "lista_ddds = list(map(extrair_ddd, lista_telefones))\n",
        "lista_telefone_ddd = zip(lista_ddds, lista_telefones)\n",
        "\n",
        "lista_telefones_19 = []\n",
        "\n",
        "for telefone_tuple in lista_telefone_ddd:\n",
        "  if telefone_tuple[0] == '19':\n",
        "    lista_telefones_19.append(telefone_tuple[1])\n",
        "\n",
        "print(lista_telefones_19)"
      ],
      "metadata": {
        "id": "jp29LsqBHTV5",
        "outputId": "794e26c5-d0d4-4a97-f3f3-c6ed1023cc24",
        "colab": {
          "base_uri": "https://localhost:8080/"
        }
      },
      "execution_count": 79,
      "outputs": [
        {
          "output_type": "stream",
          "name": "stdout",
          "text": [
            "[19999571559, '(19) 3542-1820', '(19) 3561-9525']\n"
          ]
        }
      ]
    },
    {
      "cell_type": "code",
      "source": [
        "1 == 'a'"
      ],
      "metadata": {
        "id": "FxeV4KoKI4Ey",
        "outputId": "2f115448-5edd-41bc-cd6c-7d93adbd42fb",
        "colab": {
          "base_uri": "https://localhost:8080/"
        }
      },
      "execution_count": 83,
      "outputs": [
        {
          "output_type": "execute_result",
          "data": {
            "text/plain": [
              "False"
            ]
          },
          "metadata": {},
          "execution_count": 83
        }
      ]
    },
    {
      "cell_type": "code",
      "source": [
        "filter(lambda x: extrair_ddd(x) == \"19\", lista_telefones)"
      ],
      "metadata": {
        "id": "2bBHd3zhIQzP",
        "outputId": "fc9d1698-f61e-4b75-86d7-955cb705dce5",
        "colab": {
          "base_uri": "https://localhost:8080/"
        }
      },
      "execution_count": 89,
      "outputs": [
        {
          "output_type": "execute_result",
          "data": {
            "text/plain": [
              "<filter at 0x7fcd73245810>"
            ]
          },
          "metadata": {},
          "execution_count": 89
        }
      ]
    },
    {
      "cell_type": "code",
      "execution_count": 90,
      "metadata": {
        "ExecuteTime": {
          "end_time": "2022-01-08T13:38:28.860905Z",
          "start_time": "2022-01-08T13:38:28.847940Z"
        },
        "id": "BhOnvjhp1ptS",
        "outputId": "5a1b9ca1-ebcb-431e-c256-dd9b79aebe91",
        "colab": {
          "base_uri": "https://localhost:8080/"
        }
      },
      "outputs": [
        {
          "output_type": "stream",
          "name": "stdout",
          "text": [
            "19999571559\n",
            "(19) 3542-1820\n",
            "(19) 3561-9525\n"
          ]
        }
      ],
      "source": [
        "map_19 = filter(lambda x: extrair_ddd(x) == \"19\", lista_telefones)\n",
        "for i in map_19:\n",
        "    print(i)\n"
      ]
    },
    {
      "cell_type": "code",
      "execution_count": 91,
      "metadata": {
        "ExecuteTime": {
          "end_time": "2022-01-08T13:33:05.355788Z",
          "start_time": "2022-01-08T13:33:05.340802Z"
        },
        "id": "dlxU7tEB1ptS",
        "outputId": "28449bbb-8c05-41ff-b743-35de47dc7fe0",
        "colab": {
          "base_uri": "https://localhost:8080/"
        }
      },
      "outputs": [
        {
          "output_type": "stream",
          "name": "stdout",
          "text": [
            "[19999571559, '(19) 3542-1820', '(19) 3561-9525']\n"
          ]
        }
      ],
      "source": [
        "lista_ddd_19 = list(\n",
        "    filter(lambda x: extrair_ddd(x) == \"19\", lista_telefones)\n",
        ")\n",
        "print(lista_ddd_19)\n"
      ]
    },
    {
      "cell_type": "markdown",
      "metadata": {
        "id": "OdXmHBix1ptT"
      },
      "source": [
        "Both `map()` and `filter()` are similar to `list comprehensions` - the only difference is that they're *lazy evaluators*!"
      ]
    },
    {
      "cell_type": "code",
      "source": [
        "[extrair_ddd(telefone) for telefone in lista_telefones]"
      ],
      "metadata": {
        "id": "OV0alvvIJbTs",
        "outputId": "a90a0e71-6c8f-4f41-e187-35806c837a9c",
        "colab": {
          "base_uri": "https://localhost:8080/"
        }
      },
      "execution_count": 93,
      "outputs": [
        {
          "output_type": "execute_result",
          "data": {
            "text/plain": [
              "['19', '21', '34', '91', '19', '19', '34']"
            ]
          },
          "metadata": {},
          "execution_count": 93
        }
      ]
    },
    {
      "cell_type": "code",
      "execution_count": 92,
      "metadata": {
        "ExecuteTime": {
          "end_time": "2022-01-08T13:34:40.293201Z",
          "start_time": "2022-01-08T13:34:40.275236Z"
        },
        "id": "sGFLsQoE1ptT",
        "outputId": "de949e87-1d90-4bd6-8e7b-4107f36636d1",
        "colab": {
          "base_uri": "https://localhost:8080/"
        }
      },
      "outputs": [
        {
          "output_type": "execute_result",
          "data": {
            "text/plain": [
              "[19999571559, '(19) 3542-1820', '(19) 3561-9525']"
            ]
          },
          "metadata": {},
          "execution_count": 92
        }
      ],
      "source": [
        "[telefone for telefone in lista_telefones if extrair_ddd(telefone) == \"19\"]"
      ]
    },
    {
      "cell_type": "code",
      "source": [
        "list(map(extrair_ddd , filter(lambda x: extrair_ddd(x) == '19', lista_telefones)))"
      ],
      "metadata": {
        "id": "oCCNsMmAJvCX",
        "outputId": "bc253671-b978-4cf4-939b-201ab7e68734",
        "colab": {
          "base_uri": "https://localhost:8080/"
        }
      },
      "execution_count": 96,
      "outputs": [
        {
          "output_type": "execute_result",
          "data": {
            "text/plain": [
              "['19', '19', '19']"
            ]
          },
          "metadata": {},
          "execution_count": 96
        }
      ]
    },
    {
      "cell_type": "code",
      "source": [
        "[extrair_ddd(telefone) for telefone in lista_telefones if extrair_ddd(telefone) == \"19\"]"
      ],
      "metadata": {
        "id": "sFImVSj1KaMf",
        "outputId": "8d64c381-cff1-4160-c055-ea8a5594c665",
        "colab": {
          "base_uri": "https://localhost:8080/"
        }
      },
      "execution_count": 97,
      "outputs": [
        {
          "output_type": "execute_result",
          "data": {
            "text/plain": [
              "['19', '19', '19']"
            ]
          },
          "metadata": {},
          "execution_count": 97
        }
      ]
    },
    {
      "cell_type": "markdown",
      "metadata": {
        "id": "k6cFkWQC1ptT"
      },
      "source": [
        "## Agregando iteráveis com `reduce()`\n",
        "\n",
        "The function `reduce()` implements an `accumulator`. Let's see how this works with the simple function `sum_two_elements(a, b)`:\n",
        "\n",
        "```python\n",
        "def sum_two_elements(a,b):\n",
        "    return a+b\n",
        "```\n",
        "\n",
        "now, let's use `reduce()` to *reduce* our list through summing:\n",
        "\n",
        "```python\n",
        "reduce( sum_two_elements, [1,4,6,8] )\n",
        "```\n",
        "\n",
        "```python\n",
        "a = 0 # accumulator\n",
        "b = 1 # value\n",
        "a + b = 1 # so the accumulator receives this cummulative sum\n",
        "\n",
        "a = 1 # accumulator\n",
        "b = 4 # value\n",
        "a + b = 5\n",
        "...\n",
        "a = 5 # accumulator\n",
        "b = 6 # value \n",
        "a + b = 11\n",
        "...\n",
        "a = 11 # accumulator\n",
        "b = 8 # value\n",
        "a + b = 19\n",
        "\n",
        "return 19\n",
        "```"
      ]
    },
    {
      "cell_type": "code",
      "execution_count": 98,
      "metadata": {
        "ExecuteTime": {
          "end_time": "2022-01-08T13:40:26.699812Z",
          "start_time": "2022-01-08T13:40:26.690809Z"
        },
        "id": "MTmT-c7I1ptT"
      },
      "outputs": [],
      "source": [
        "from functools import reduce"
      ]
    },
    {
      "cell_type": "markdown",
      "metadata": {
        "id": "aJVwrrfh1ptT"
      },
      "source": [
        "### Example 1: Numbers"
      ]
    },
    {
      "cell_type": "code",
      "execution_count": 99,
      "metadata": {
        "ExecuteTime": {
          "end_time": "2022-01-08T13:40:45.001881Z",
          "start_time": "2022-01-08T13:40:44.996892Z"
        },
        "id": "9h7bpe4J1ptT"
      },
      "outputs": [],
      "source": [
        "def somar_ab(a, b):\n",
        "    print(f\"a={a}, b={b}\")\n",
        "    return a + b\n"
      ]
    },
    {
      "cell_type": "code",
      "execution_count": 100,
      "metadata": {
        "ExecuteTime": {
          "end_time": "2022-01-08T13:41:03.621781Z",
          "start_time": "2022-01-08T13:41:03.599837Z"
        },
        "scrolled": true,
        "id": "yf-c4wvz1ptT",
        "outputId": "292c467d-527f-4c41-c8fb-d01b21a47fde",
        "colab": {
          "base_uri": "https://localhost:8080/"
        }
      },
      "outputs": [
        {
          "output_type": "stream",
          "name": "stdout",
          "text": [
            "a=1, b=4\n",
            "a=5, b=6\n",
            "a=11, b=8\n"
          ]
        },
        {
          "output_type": "execute_result",
          "data": {
            "text/plain": [
              "19"
            ]
          },
          "metadata": {},
          "execution_count": 100
        }
      ],
      "source": [
        "lista_numeros = [1, 4, 6, 8]\n",
        "reduce(somar_ab, lista_numeros)\n"
      ]
    },
    {
      "cell_type": "code",
      "execution_count": 102,
      "metadata": {
        "ExecuteTime": {
          "end_time": "2022-01-08T13:45:31.605477Z",
          "start_time": "2022-01-08T13:45:31.598496Z"
        },
        "id": "fgIO3nf21ptT",
        "outputId": "0984156c-9160-4690-8d08-d475d7d65585",
        "colab": {
          "base_uri": "https://localhost:8080/"
        }
      },
      "outputs": [
        {
          "output_type": "stream",
          "name": "stdout",
          "text": [
            "40\n"
          ]
        }
      ],
      "source": [
        "def comp_ab(x, y):\n",
        "    if x > y:\n",
        "        return x\n",
        "    else:\n",
        "        return y\n",
        "\n",
        "\n",
        "results = reduce(comp_ab, [2, 10, 25, 1, -10, 13, 40, 20])\n",
        "print(results)"
      ]
    },
    {
      "cell_type": "markdown",
      "metadata": {
        "id": "oGQYbsN31ptU"
      },
      "source": [
        "### Example 2: Strings"
      ]
    },
    {
      "cell_type": "code",
      "execution_count": 109,
      "metadata": {
        "ExecuteTime": {
          "end_time": "2022-01-08T13:46:48.190189Z",
          "start_time": "2022-01-08T13:46:48.182210Z"
        },
        "id": "GlKsIcZk1ptU"
      },
      "outputs": [],
      "source": [
        "lista_letras = [\"P\", \"e\", \"d\", \"r\", \"o\"]\n"
      ]
    },
    {
      "cell_type": "code",
      "execution_count": 110,
      "metadata": {
        "ExecuteTime": {
          "end_time": "2022-01-08T13:46:49.230760Z",
          "start_time": "2022-01-08T13:46:49.222760Z"
        },
        "id": "-f-gIB9O1ptU",
        "outputId": "e4be3c42-289b-4f73-8760-e9e9d247e0c8",
        "colab": {
          "base_uri": "https://localhost:8080/",
          "height": 57
        }
      },
      "outputs": [
        {
          "output_type": "execute_result",
          "data": {
            "text/plain": [
              "'Pedro'"
            ],
            "application/vnd.google.colaboratory.intrinsic+json": {
              "type": "string"
            }
          },
          "metadata": {},
          "execution_count": 110
        }
      ],
      "source": [
        "reduce(lambda x, y: x + y, lista_letras)\n"
      ]
    },
    {
      "cell_type": "markdown",
      "metadata": {
        "id": "N-hdHvcX1ptU"
      },
      "source": [
        "Let's use reduce to select the longest string in a list:"
      ]
    },
    {
      "cell_type": "code",
      "source": [
        "lista_nomes = [\"Amapá\", \"Roraima\", \"Pará\", \"Piauí\", \"Maranhão\"]"
      ],
      "metadata": {
        "id": "UsD6TAJ3NNq2"
      },
      "execution_count": 105,
      "outputs": []
    },
    {
      "cell_type": "code",
      "execution_count": 106,
      "metadata": {
        "ExecuteTime": {
          "end_time": "2022-01-08T13:47:22.941553Z",
          "start_time": "2022-01-08T13:47:22.933575Z"
        },
        "id": "OtVHju0e1ptU",
        "outputId": "738fbbe6-cb9e-4917-a326-71a0adcf2885",
        "colab": {
          "base_uri": "https://localhost:8080/",
          "height": 57
        }
      },
      "outputs": [
        {
          "output_type": "execute_result",
          "data": {
            "text/plain": [
              "'Maranhão'"
            ],
            "application/vnd.google.colaboratory.intrinsic+json": {
              "type": "string"
            }
          },
          "metadata": {},
          "execution_count": 106
        }
      ],
      "source": [
        "reduce(lambda x, y: x if len(x) > len(y) else y, lista_nomes)\n"
      ]
    },
    {
      "cell_type": "code",
      "source": [
        "!pip install langdetect"
      ],
      "metadata": {
        "id": "GKja5yhcOAQm"
      },
      "execution_count": null,
      "outputs": []
    },
    {
      "cell_type": "code",
      "source": [
        "import langdetect\n",
        "from functools import reduce"
      ],
      "metadata": {
        "id": "m_VbNWGvN_P5"
      },
      "execution_count": 112,
      "outputs": []
    },
    {
      "cell_type": "code",
      "source": [
        "words = ['good morning', '早上好', 'доброго', 'おはようございます', 'everyone', '大家', 'каждый', 'みんな']"
      ],
      "metadata": {
        "id": "yIW_EZKsOGd_"
      },
      "execution_count": 170,
      "outputs": []
    },
    {
      "cell_type": "code",
      "source": [
        "reduce(lambda x,y: x + ' ' + y , filter(lambda x: langdetect.detect(x)=='en', words))"
      ],
      "metadata": {
        "id": "2BfaFYOINqhV",
        "outputId": "c67ceae0-c6cb-40cf-bad5-9c341fe0d6a5",
        "colab": {
          "base_uri": "https://localhost:8080/",
          "height": 57
        }
      },
      "execution_count": 173,
      "outputs": [
        {
          "output_type": "execute_result",
          "data": {
            "text/plain": [
              "'everyone'"
            ],
            "application/vnd.google.colaboratory.intrinsic+json": {
              "type": "string"
            }
          },
          "metadata": {},
          "execution_count": 173
        }
      ]
    },
    {
      "cell_type": "code",
      "source": [
        "list_eval = []\n",
        "for i in range(1000):\n",
        "  list_eval.append(langdetect.detect('morning'))"
      ],
      "metadata": {
        "id": "6xrBCTkmOeyn"
      },
      "execution_count": 150,
      "outputs": []
    },
    {
      "cell_type": "code",
      "source": [
        "list_eval[0:10]"
      ],
      "metadata": {
        "id": "ouN8Z1DHPk2M",
        "outputId": "3a3cc180-c18b-4a9d-b953-cce2b5498ab5",
        "colab": {
          "base_uri": "https://localhost:8080/"
        }
      },
      "execution_count": 151,
      "outputs": [
        {
          "output_type": "execute_result",
          "data": {
            "text/plain": [
              "['en', 'en', 'en', 'en', 'en', 'en', 'en', 'en', 'en', 'en']"
            ]
          },
          "metadata": {},
          "execution_count": 151
        }
      ]
    },
    {
      "cell_type": "code",
      "source": [
        "map(lambda x: langdetect.detect('morning'))"
      ],
      "metadata": {
        "id": "e1xWsySDPsmN"
      },
      "execution_count": null,
      "outputs": []
    },
    {
      "cell_type": "code",
      "source": [
        "len(list(filter(lambda x: x == 'en', list_eval)))/len(list_eval)"
      ],
      "metadata": {
        "id": "JqVoON8lPLVk",
        "outputId": "b39b2b30-f865-47b2-d05d-75194d54e38f",
        "colab": {
          "base_uri": "https://localhost:8080/"
        }
      },
      "execution_count": 152,
      "outputs": [
        {
          "output_type": "execute_result",
          "data": {
            "text/plain": [
              "1.0"
            ]
          },
          "metadata": {},
          "execution_count": 152
        }
      ]
    },
    {
      "cell_type": "markdown",
      "metadata": {
        "id": "mMDvjpgI1ptU"
      },
      "source": [
        "\n",
        "### Example 3: Chaining Map, Filter & Reduce"
      ]
    },
    {
      "cell_type": "code",
      "execution_count": 174,
      "metadata": {
        "id": "EmPGJPyk1ptU"
      },
      "outputs": [],
      "source": [
        "list_tuples = [(12, 119), (-12, 43), (28, 39), (12, 21), (-14, 43)]"
      ]
    },
    {
      "cell_type": "code",
      "source": [
        "map_prod = map(lambda x: x[0] * x[1], list_tuples)\n",
        "filt_neg = filter(lambda x: x > 0, map_prod)\n",
        "list(filt_neg)"
      ],
      "metadata": {
        "id": "easm3NE0RSYB",
        "outputId": "eb2d1c66-cc60-4879-a2b0-1f76538ec085",
        "colab": {
          "base_uri": "https://localhost:8080/"
        }
      },
      "execution_count": 177,
      "outputs": [
        {
          "output_type": "execute_result",
          "data": {
            "text/plain": [
              "[1428, 1092, 252]"
            ]
          },
          "metadata": {},
          "execution_count": 177
        }
      ]
    },
    {
      "cell_type": "code",
      "execution_count": 178,
      "metadata": {
        "id": "kBJ47Eq41ptU",
        "outputId": "90dcbfc2-9f2c-4c5c-a682-99665d2a0e3f",
        "colab": {
          "base_uri": "https://localhost:8080/"
        }
      },
      "outputs": [
        {
          "output_type": "stream",
          "name": "stdout",
          "text": [
            "252\n"
          ]
        }
      ],
      "source": [
        "map_prod = map(lambda x: x[0] * x[1], list_tuples)\n",
        "filt_neg = filter(lambda x: x > 0, map_prod)\n",
        "smallest = reduce(lambda x, y: x if x < y else y, filt_neg)\n",
        "\n",
        "print(smallest)"
      ]
    },
    {
      "cell_type": "code",
      "execution_count": null,
      "metadata": {
        "id": "WVVrT73V1ptU"
      },
      "outputs": [],
      "source": [
        "train_test_split(X, y, random_state = 42)"
      ]
    }
  ],
  "metadata": {
    "hide_input": false,
    "kernelspec": {
      "display_name": "Python 3.9.11 ('base')",
      "language": "python",
      "name": "python3"
    },
    "language_info": {
      "codemirror_mode": {
        "name": "ipython",
        "version": 3
      },
      "file_extension": ".py",
      "mimetype": "text/x-python",
      "name": "python",
      "nbconvert_exporter": "python",
      "pygments_lexer": "ipython3",
      "version": "3.9.11"
    },
    "toc": {
      "base_numbering": 1,
      "nav_menu": {},
      "number_sections": true,
      "sideBar": true,
      "skip_h1_title": false,
      "title_cell": "Table of Contents",
      "title_sidebar": "Contents",
      "toc_cell": false,
      "toc_position": {},
      "toc_section_display": true,
      "toc_window_display": false
    },
    "varInspector": {
      "cols": {
        "lenName": 16,
        "lenType": 16,
        "lenVar": 40
      },
      "kernels_config": {
        "python": {
          "delete_cmd_postfix": "",
          "delete_cmd_prefix": "del ",
          "library": "var_list.py",
          "varRefreshCmd": "print(var_dic_list())"
        },
        "r": {
          "delete_cmd_postfix": ") ",
          "delete_cmd_prefix": "rm(",
          "library": "var_list.r",
          "varRefreshCmd": "cat(var_dic_list()) "
        }
      },
      "types_to_exclude": [
        "module",
        "function",
        "builtin_function_or_method",
        "instance",
        "_Feature"
      ],
      "window_display": false
    },
    "vscode": {
      "interpreter": {
        "hash": "014f4a4a5af8f0104b12c029e500f4146d6d785e8cf714d2a35b7a9514230cd3"
      }
    },
    "colab": {
      "provenance": []
    }
  },
  "nbformat": 4,
  "nbformat_minor": 0
}